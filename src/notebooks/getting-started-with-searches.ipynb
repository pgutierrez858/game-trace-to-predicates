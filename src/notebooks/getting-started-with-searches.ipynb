{
 "cells": [
  {
   "metadata": {},
   "cell_type": "markdown",
   "source": "## Getting Started with Predicate Searches"
  },
  {
   "metadata": {},
   "cell_type": "markdown",
   "source": [
    "### MCTS-based searches\n",
    "\n",
    "The ```BasicMCTSSearch.kt``` class defines a search method that makes use of a simplified MCTS algorithm to look for predicates that optimize the value of the given evaluation function. Internally, this class defines the search problem as a single-player game where the state (```GrammarProductionState.kt```) corresponds to a list of symbols derived from the search grammar, some of which are terminal (i.e. cannot be expanded any further), some not. These latter non-terminal symbols are associated with grammar rules and can thus be expanded in all the different ways that their rule allows.\n",
    "\n",
    "For example, if we were to use the ```ifThenGrammar.bnf``` as our search grammar, given by:\n",
    "\n",
    "```\n",
    "<expr> ::=  G(!( <literal> ) \"|\" ( <literal> )) | G(!( <literal> ) \"|\" F ( <literal> )) | ( <expr> ) & ( <expr> )\n",
    "```\n",
    "\n",
    "the initial game state would be ```<expr>```, which consists of a single non-terminal symbol that can be expanded in 3 different ways following the productions of its grammar rule. Each of these production choices is treated as a game action when performing MCTS, and leads to a successor state where the expanded symbol is replaced by the ones of the chosen production. For instance, if we take the action that expands ```<expr> ::= ( <expr> ) & ( <expr> )```, the new game state would simply be represented by ```( <expr> ) & ( <expr> )```, and now we would have a total of 6 possible actions to take from there: 3 for each of the ```<expr>``` symbols added to the base expression.\n",
    "\n",
    "Let's replicate this behavior by manually declaring an initial grammar production state from the ```<expr>``` symbol and the ```ifThenGrammar.bnf``` grammar, and then observing how the state representation and possible actions evolve when following the steps from the description above. "
   ]
  },
  {
   "metadata": {
    "ExecuteTime": {
     "end_time": "2024-06-07T15:25:31.567631900Z",
     "start_time": "2024-06-07T15:25:30.969101300Z"
    }
   },
   "cell_type": "code",
   "source": [
    "import org.moeaframework.util.grammar.Symbol\n",
    "import predcompiler.compilation.mcts.GrammarProductionState\n",
    "import predcompiler.compilation.AbstractPredicateSearch\n",
    "import predcompiler.compilation.mcts.buildResultString\n",
    "import predcompiler.compilation.mcts.possibleActions\n",
    "\n",
    "val grammar = AbstractPredicateSearch.readGrammar(\"../main/resources/grammars/ifThenGrammar.bnf\")\n",
    "val symbolSequence = listOf(Symbol(\"expr\", false))\n",
    "// intialize a state from the base grammar and the initial symbol sequence containing a single <expr> token.\n",
    "val initialGameState = GrammarProductionState(grammar, symbolSequence)\n",
    "// display a string representation of the current sybol sequence\n",
    "println(\"Current state representation: \" + initialGameState.buildResultString(ignoreNonTerminals = false))\n",
    "// print available actions\n",
    "println(\"Available Actions from current state:\")\n",
    "val possibleActions = initialGameState.possibleActions()\n",
    "for (action in possibleActions) {\n",
    "    println(\"\\t\" + action)\n",
    "}"
   ],
   "outputs": [
    {
     "name": "stdout",
     "output_type": "stream",
     "text": [
      "Current state representation: expr\r\n",
      "Available Actions from current state:\r\n",
      "\tGrammarProductionAction(symbolToExpandIndex=0, chosenProductionIndex=0)\r\n",
      "\tGrammarProductionAction(symbolToExpandIndex=0, chosenProductionIndex=1)\r\n",
      "\tGrammarProductionAction(symbolToExpandIndex=0, chosenProductionIndex=2)\r\n"
     ]
    }
   ],
   "execution_count": 1
  },
  {
   "metadata": {},
   "cell_type": "markdown",
   "source": "Note how each grammar production action is defined by two indices: one to represent which of the available symbols we wish to expand, and another to select the production to apply from the list of available productions in the symbol's grammar rule. Let's see what happens now if we apply the third action to the initial state."
  },
  {
   "metadata": {
    "ExecuteTime": {
     "end_time": "2024-06-07T15:25:31.804419600Z",
     "start_time": "2024-06-07T15:25:31.575162700Z"
    }
   },
   "cell_type": "code",
   "source": [
    "import predcompiler.compilation.mcts.applyProduction\n",
    "\n",
    "// produce a successor state by applying the next action to the current one\n",
    "val nextState = initialGameState.applyProduction(possibleActions[2])\n",
    "println(\"Next state representation: \" + nextState.buildResultString(ignoreNonTerminals = false))\n",
    "// print available actions\n",
    "println(\"Available Actions from next state:\")\n",
    "val nextPossibleActions = nextState.possibleActions()\n",
    "for (action in nextPossibleActions) {\n",
    "    println(\"\\t\" + action)\n",
    "}"
   ],
   "outputs": [
    {
     "name": "stdout",
     "output_type": "stream",
     "text": [
      "Next state representation: (expr)&(expr)\r\n",
      "Available Actions from next state:\r\n",
      "\tGrammarProductionAction(symbolToExpandIndex=1, chosenProductionIndex=0)\r\n",
      "\tGrammarProductionAction(symbolToExpandIndex=1, chosenProductionIndex=1)\r\n",
      "\tGrammarProductionAction(symbolToExpandIndex=1, chosenProductionIndex=2)\r\n",
      "\tGrammarProductionAction(symbolToExpandIndex=5, chosenProductionIndex=0)\r\n",
      "\tGrammarProductionAction(symbolToExpandIndex=5, chosenProductionIndex=1)\r\n",
      "\tGrammarProductionAction(symbolToExpandIndex=5, chosenProductionIndex=2)\r\n"
     ]
    }
   ],
   "execution_count": 2
  },
  {
   "metadata": {},
   "cell_type": "markdown",
   "source": [
    "Observe how there are now 6 possible actions for the two ```expr``` symbols at positions 1 and 5, respectively. A game state is considered terminal when all of its symbols are terminal and thus cannot be expanded anymore.\n",
    "\n",
    "We will now look into how to perform a MCTS on the same grammar to find predicates that (attempt to) maximize their fitness according to a given evaluation heuristic. An example snippet on how to do this for the ping pong example is shown below."
   ]
  },
  {
   "metadata": {
    "ExecuteTime": {
     "end_time": "2024-06-07T15:25:36.267560500Z",
     "start_time": "2024-06-07T15:25:31.809452200Z"
    }
   },
   "cell_type": "code",
   "source": [
    "import predcompiler.compilation.io.loadClassFromFile\n",
    "\n",
    "val configFile = \"../main/resources/experiments/ping_pong_mcts_sample.json\"\n",
    "val search = loadClassFromFile<AbstractPredicateSearch>(configFile)\n",
    "\n",
    "while (search.isStillRunning) {\n",
    "    search.step()\n",
    "    search.printStepResults()\n",
    "}"
   ],
   "outputs": [
    {
     "name": "stdout",
     "output_type": "stream",
     "text": [
      "G(!(literal)|F(literal))\r\n",
      "G(!(maybe-a&maybe-b)|F(literal))\r\n",
      "G(!(maybe-a&maybe-b)|F(maybe-a&maybe-b))\r\n",
      "G(!(maybe-a&1)|F(maybe-a&maybe-b))\r\n",
      "G(!(maybe-a&1)|F(maybe-a&!b))\r\n",
      "G(!(maybe-a&1)|F(a&!b))\r\n",
      "G(!(1&1)|F(a&!b))\r\n",
      "-------------------------------\r\n",
      "Step 1\r\n",
      "-------------------------------\r\n",
      "Best Fitness Value: 100.0\r\n",
      "    G(!(1&1)|F(a&!b))\r\n",
      "-------------------------------\r\n",
      "\r\n"
     ]
    }
   ],
   "execution_count": 3
  }
 ],
 "metadata": {
  "kernelspec": {
   "display_name": "Kotlin",
   "language": "kotlin",
   "name": "kotlin"
  },
  "language_info": {
   "name": "kotlin",
   "version": "1.9.23",
   "mimetype": "text/x-kotlin",
   "file_extension": ".kt",
   "pygments_lexer": "kotlin",
   "codemirror_mode": "text/x-kotlin",
   "nbconvert_exporter": ""
  },
  "ktnbPluginMetadata": {
   "projectDependencies": true
  }
 },
 "nbformat": 4,
 "nbformat_minor": 0
}
